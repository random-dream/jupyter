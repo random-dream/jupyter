{
 "cells": [
  {
   "cell_type": "code",
   "execution_count": 2,
   "metadata": {},
   "outputs": [],
   "source": [
    "# pd.set_option('display.max_rows', 100)      #显示的最大行数（避免只显示部分行数据）\n",
    "# pd.set_option('display.max_columns', 1000)  #显示的最大列数（避免列显示不全）\n",
    "# pd.set_option(\"display.max_colwidth\",1000)  #每一列最大的宽度（避免属性值或列名显示不全）\n",
    "# pd.set_option('display.width',1000)         #每一行的宽度（避免换行）"
   ]
  },
  {
   "cell_type": "code",
   "execution_count": 3,
   "metadata": {},
   "outputs": [],
   "source": [
    "# -*- coding: utf-8 -*- \n",
    "import os\n",
    "import pandas as pd\n",
    "import numpy as np"
   ]
  },
  {
   "cell_type": "code",
   "execution_count": null,
   "metadata": {},
   "outputs": [],
   "source": [
    "os.chdir(r'C:\\Users\\梦为努力交了税\\Downloads')  #设置工作目录为chrome下载文件目录\n",
    "list_file = os.listdir()\n",
    "list_file.sort(key = lambda x : os.path.getmtime(os.getcwd()+'\\\\'+x), reverse=True) #按文件修改时间逆序\n",
    "data = pd.read_csv(os.getcwd()+'\\\\'+list_file[0])#逆序后取第一个文件，即最新的一个文件\n",
    "# data.to_excel(r'C:\\Users\\梦为努力交了税\\Desktop\\output.xlsx', index=False) #用于xlsx形式文件输出\n",
    "os.chdir(file)  #更改工作目录为原工作目录\n",
    "print('已读取当前文件为: 'list_file[0])\n",
    "print('当前工作目录为：',os.getcwd())\n",
    "print(data.head())"
   ]
  }
 ],
 "metadata": {
  "kernelspec": {
   "display_name": "Python 3",
   "language": "python",
   "name": "python3"
  },
  "language_info": {
   "codemirror_mode": {
    "name": "ipython",
    "version": 3
   },
   "file_extension": ".py",
   "mimetype": "text/x-python",
   "name": "python",
   "nbconvert_exporter": "python",
   "pygments_lexer": "ipython3",
   "version": "3.7.3"
  }
 },
 "nbformat": 4,
 "nbformat_minor": 4
}
